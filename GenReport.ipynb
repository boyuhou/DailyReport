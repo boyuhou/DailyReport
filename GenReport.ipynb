{
 "cells": [
  {
   "cell_type": "code",
   "execution_count": null,
   "metadata": {},
   "outputs": [],
   "source": [
    "import os\n",
    "from DailyReport import GridBuilder, DEFAULT_GRIDS_CELL_FORMAT_CONFIG, save_doc, combine_images, get_group_value, get_zone, get_report_price_info, Instrument, get_base_instrument, get_sub_instruments, combine_report, doc2pdf\n",
    "from DailyReport.template import WEEKLY_TEMPLATE_PATH, DAILY_TEMPLATE_PATH\n",
    "from shutil import copyfile\n",
    "import math\n",
    "import pandas as pd;pd.__version__"
   ]
  },
  {
   "cell_type": "code",
   "execution_count": null,
   "metadata": {},
   "outputs": [],
   "source": [
    "root_instrument = Instrument.NZD\n",
    "commentary = '''\n",
    "    \n",
    "'''\n",
    "date = '2019-09-18'"
   ]
  },
  {
   "cell_type": "code",
   "execution_count": null,
   "metadata": {},
   "outputs": [],
   "source": [
    "base_instrument = get_base_instrument(root_instrument)\n",
    "sub_instruments = get_sub_instruments(root_instrument)\n",
    "report_folder = r'report_output'\n",
    "chart_folder = 'chart_output'\n",
    "data_folder = 'data_output'\n",
    "weekly_template_path = os.path.join(report_folder, root_instrument, 'WEEKLY.docx')\n",
    "result_path = os.path.join(report_folder, root_instrument, '{0}_WEEKLY.docx'.format(root_instrument))"
   ]
  },
  {
   "cell_type": "code",
   "execution_count": null,
   "metadata": {},
   "outputs": [],
   "source": [
    "data_path_dict = {\n",
    "    'DailySinceHigh': os.path.join(data_folder, 'DailySinceHigh', root_instrument),\n",
    "    'DailySinceLow': os.path.join(data_folder, 'DailySinceLow', root_instrument),\n",
    "    'ER_ID2': os.path.join(data_folder, 'ER_ID2'),\n",
    "    'ER_ID1': os.path.join(data_folder, 'ER_ID1'),\n",
    "    'Max20': os.path.join(data_folder, 'Max20', root_instrument),\n",
    "    'Min20': os.path.join(data_folder, 'Min20', root_instrument),\n",
    "    'Price': os.path.join(data_folder, 'Price'),\n",
    "    'RS': os.path.join(data_folder, 'RS', root_instrument),\n",
    "    'RS_Change': os.path.join(data_folder, 'RS_Change', root_instrument),\n",
    "    'TR_ID3': os.path.join(data_folder, 'TR_ID3'),\n",
    "    'TR_ID2': os.path.join(data_folder, 'TR_ID2'),\n",
    "    'TR_ID1': os.path.join(data_folder, 'TR_ID1'),\n",
    "}"
   ]
  },
  {
   "cell_type": "code",
   "execution_count": null,
   "metadata": {},
   "outputs": [],
   "source": [
    "context = {\n",
    "    'instrument_group_name': root_instrument,\n",
    "    'date': date,\n",
    "    'commentary': commentary,\n",
    "    'instrument_name': base_instrument,\n",
    "}"
   ]
  },
  {
   "cell_type": "code",
   "execution_count": null,
   "metadata": {},
   "outputs": [],
   "source": [
    "report_list = []\n",
    "df = pd.concat([\n",
    "        get_group_value(data_path_dict['RS'], sub_instruments, 'RS'),\n",
    "        get_group_value(data_path_dict['RS_Change'], sub_instruments, 'RS_Change'),\n",
    "        get_group_value(data_path_dict['Max20'], sub_instruments, 'Max20'),\n",
    "        get_group_value(data_path_dict['Min20'], sub_instruments, 'Min20'),\n",
    "        get_group_value(data_path_dict['DailySinceHigh'], sub_instruments, 'DailySinceHigh'),\n",
    "        get_group_value(data_path_dict['DailySinceLow'], sub_instruments, 'DailySinceLow'),\n",
    "    ]).T\n",
    "dic = {\n",
    "    'Daily': get_report_price_info(data_path_dict['Price'], base_instrument, 'Daily'),\n",
    "    'Weekly': get_report_price_info(data_path_dict['Price'], base_instrument, 'Weekly'),\n",
    "    'Monthly': get_report_price_info(data_path_dict['Price'], base_instrument, 'Monthly'),\n",
    "}\n",
    "p1_grid_context_info = GridBuilder.create_grid_context_from_df(df, DEFAULT_GRIDS_CELL_FORMAT_CONFIG, 'p1_1')\n",
    "p2_grid_context_info = GridBuilder.create_grid_context_from_df(pd.DataFrame(dic), DEFAULT_GRIDS_CELL_FORMAT_CONFIG, 'p2_1')\n",
    "text_context = {**p1_grid_context_info, **p2_grid_context_info, **context}\n",
    "weekly_pics_list = [os.path.join(chart_folder, '{0}_{1}.png'.format(base_instrument, 'WEEKLY')), os.path.join(chart_folder, '{0}_{1}.png'.format(base_instrument, 'MONTHLY'))]\n",
    "weekly_pic = os.path.join(report_folder, root_instrument, '{0}_{1}.png'.format(base_instrument, 'COMBINED'))\n",
    "combine_images(weekly_pics_list, weekly_pic)\n",
    "chart_context = {\n",
    "    'weekly_monthly_chart': weekly_pic,\n",
    "    'weekly_monthly_chart_width_percent': 1.5,\n",
    "    'daily_chart': os.path.join(chart_folder, '{0}_{1}.png'.format(base_instrument, 'DAILY')),\n",
    "    'daily_chart_width_percent': 1.5,\n",
    "}\n",
    "copyfile(WEEKLY_TEMPLATE_PATH, weekly_template_path)\n",
    "save_doc({**text_context}, {**chart_context}, {}, weekly_template_path, result_path)\n",
    "report_list.append(result_path)"
   ]
  },
  {
   "cell_type": "code",
   "execution_count": null,
   "metadata": {},
   "outputs": [],
   "source": [
    "for _sub in sub_instruments:\n",
    "    dic = {\n",
    "        'Daily': get_report_price_info(data_path_dict['Price'], _sub, 'Daily'),\n",
    "        'Weekly': get_report_price_info(data_path_dict['Price'], _sub, 'Weekly'),\n",
    "        'Monthly': get_report_price_info(data_path_dict['Price'], _sub, 'Monthly'),\n",
    "    };\n",
    "    p1_grid_context_info = GridBuilder.create_grid_context_from_df(pd.DataFrame(dic), DEFAULT_GRIDS_CELL_FORMAT_CONFIG, 'p1_1')\n",
    "    context = {\n",
    "        'instrument_name': _sub,\n",
    "    }\n",
    "    text_context = {**p1_grid_context_info, **context}\n",
    "\n",
    "    id1_daily_pics_list = [os.path.join(chart_folder, '{0}_{1}.png'.format(_sub, 'DAILY')), os.path.join(chart_folder, '{0}_{1}.png'.format(_sub, 'ID1'))]\n",
    "    id1_daily_pic = os.path.join(report_folder, root_instrument, '{0}_{1}.png'.format(_sub, 'COMBINED'))\n",
    "    combine_images(id1_daily_pics_list, id1_daily_pic)\n",
    "    chart_context = {\n",
    "        'id1_daily_chart': id1_daily_pic,\n",
    "        'id1_daily_chart_width_percent': 1.5,\n",
    "        'id2_chart': os.path.join(chart_folder, '{0}_{1}.png'.format(_sub, 'ID2')),\n",
    "        'id2_chart_width_percent': 1.5,\n",
    "    }\n",
    "\n",
    "    daily_template_path = os.path.join(report_folder, root_instrument, 'DAILY.docx')\n",
    "    result_path = os.path.join(report_folder, root_instrument, '{0}_DAILY.docx'.format(_sub))\n",
    "    copyfile(DAILY_TEMPLATE_PATH, daily_template_path)\n",
    "    save_doc({**text_context}, {**chart_context}, {}, daily_template_path, result_path)\n",
    "    report_list.append(result_path)"
   ]
  },
  {
   "cell_type": "code",
   "execution_count": null,
   "metadata": {},
   "outputs": [],
   "source": [
    "final_doc_path = daily_template_path = os.path.abspath(os.path.join(report_folder, root_instrument, '{0}.docx'.format(root_instrument)))\n",
    "final_pdf_path = daily_template_path = os.path.abspath(os.path.join(report_folder, '{0}_{1}.pdf'.format(root_instrument, date)))\n",
    "combine_report(report_list, final_doc_path)\n",
    "doc2pdf(final_doc_path, final_pdf_path)"
   ]
  }
 ],
 "metadata": {
  "kernelspec": {
   "display_name": "Python 3",
   "language": "python",
   "name": "python3"
  },
  "language_info": {
   "codemirror_mode": {
    "name": "ipython",
    "version": 3
   },
   "file_extension": ".py",
   "mimetype": "text/x-python",
   "name": "python",
   "nbconvert_exporter": "python",
   "pygments_lexer": "ipython3",
   "version": "3.7.4"
  }
 },
 "nbformat": 4,
 "nbformat_minor": 4
}
