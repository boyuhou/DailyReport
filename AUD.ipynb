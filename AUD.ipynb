{
 "cells": [
  {
   "cell_type": "code",
   "execution_count": 1,
   "metadata": {},
   "outputs": [
    {
     "data": {
      "text/plain": [
       "'0.24.2'"
      ]
     },
     "execution_count": 1,
     "metadata": {},
     "output_type": "execute_result"
    }
   ],
   "source": [
    "import os\n",
    "from DailyReport import GridBuilder, DEFAULT_GRIDS_CELL_FORMAT_CONFIG, save_doc, combine_images, get_group_value, get_specific_value, get_value_area_style\n",
    "from DailyReport.template import WEEKLY_TEMPLATE_PATH, DAILY_TEMPLATE_PATH\n",
    "from shutil import copyfile\n",
    "import math\n",
    "import pandas as pd;pd.__version__"
   ]
  },
  {
   "cell_type": "code",
   "execution_count": null,
   "metadata": {},
   "outputs": [],
   "source": [
    "root_instrument = 'AUD'\n",
    "base_instrument = '6A ##-##'\n",
    "sub_instruments = ['AUDCAD', 'AUDCHF', 'AUDJPY', 'AUDNZD', 'AUDUSD', 'EURAUD', 'GBPAUD']\n",
    "report_folder = r'result_output'\n",
    "chart_folder = 'chart_output'\n",
    "data_folder = 'data_output'\n",
    "weekly_template_path = os.path.join(report_folder, root_instrument, 'WEEKLY.docx')\n",
    "daily_template_path = os.path.join(report_folder, root_instrument, 'DAILY.docx')\n",
    "result_path = os.path.join(report_folder, root_instrument, 'AUD_WEEKLY.docx')"
   ]
  },
  {
   "cell_type": "code",
   "execution_count": null,
   "metadata": {},
   "outputs": [],
   "source": [
    "data_path_dict = {\n",
    "    'DailySinceHigh': os.path.join(data_folder, 'DailySinceHigh', root_instrument),\n",
    "    'DailySinceLow': os.path.join(data_folder, 'DailySinceLow', root_instrument),\n",
    "    'ER_ID2': os.path.join(data_folder, 'ER_ID2'),\n",
    "    'ER_ID1': os.path.join(data_folder, 'ER_ID1'),\n",
    "    'Max20': os.path.join(data_folder, 'Max20', root_instrument),\n",
    "    'Min20': os.path.join(data_folder, 'Min20', root_instrument),\n",
    "    'Price': os.path.join(data_folder, 'Price'),\n",
    "    'RS': os.path.join(data_folder, 'RS', root_instrument),\n",
    "    'RS_Change': os.path.join(data_folder, 'RS_Change', root_instrument),\n",
    "    'TR_ID3': os.path.join(data_folder, 'TR_ID3'),\n",
    "    'TR_ID2': os.path.join(data_folder, 'TR_ID2'),\n",
    "    'TR_ID1': os.path.join(data_folder, 'TR_ID1'),\n",
    "}"
   ]
  },
  {
   "cell_type": "code",
   "execution_count": null,
   "metadata": {},
   "outputs": [],
   "source": [
    "date = '2019-09-09'"
   ]
  },
  {
   "cell_type": "code",
   "execution_count": null,
   "metadata": {},
   "outputs": [],
   "source": [
    "context = {\n",
    "    'instrument_group_name': root_instrument,\n",
    "    'date': date,\n",
    "    'commentary': 'Hello world',\n",
    "    'instrument_name': '6A ##-##',\n",
    "}"
   ]
  },
  {
   "cell_type": "code",
   "execution_count": null,
   "metadata": {},
   "outputs": [],
   "source": [
    "\n",
    "\n",
    "dic = {\n",
    "    'Daily': {\n",
    "        'Market Env': get_specific_value(data_path_dict['Price'], base_instrument, 'DailyMarketEnv'),\n",
    "        'ATR': get_specific_value(data_path_dict['Price'], base_instrument, 'DailyAtr'),\n",
    "        'Close 2 VPOC':  (get_specific_value(data_path_dict['Price'], base_instrument, 'ClosePrice') - get_specific_value(data_path_dict['Price'], base_instrument, 'DailyVPOC'))/get_specific_value(data_path_dict['Price'], base_instrument, 'DailyAtr'),\n",
    "        'Channel Trend': get_specific_value(data_path_dict['Price'], base_instrument, 'DailyTrendState'),\n",
    "        'Value Area':  get_value_area_style(\n",
    "            val=get_specific_value(data_path_dict['Price'], base_instrument, 'DailyVAL'),\n",
    "            vah=get_specific_value(data_path_dict['Price'], base_instrument, 'DailyVAH'),\n",
    "            vpoc=get_specific_value(data_path_dict['Price'], base_instrument, 'DailyVPOC'),\n",
    "            atr=get_specific_value(data_path_dict['Price'], base_instrument, 'DailyAtr')\n",
    "        ),\n",
    "    },\n",
    "    'Weekly': {\n",
    "        'Market Env': get_specific_value(data_path_dict['Price'], base_instrument, 'WeeklyMarketEnv'),\n",
    "        'ATR': get_specific_value(data_path_dict['Price'], base_instrument, 'WeeklyAtr'),\n",
    "        'Close 2 VPOC':  (get_specific_value(data_path_dict['Price'], base_instrument, 'ClosePrice') - get_specific_value(data_path_dict['Price'], base_instrument, 'WeeklyVPOC'))/get_specific_value(data_path_dict['Price'], base_instrument, 'WeeklyAtr'),\n",
    "        'Channel Trend': get_specific_value(data_path_dict['Price'], base_instrument, 'WeeklyTrendState'),\n",
    "        'Value Area': get_value_area_style(\n",
    "            val=get_specific_value(data_path_dict['Price'], base_instrument, 'WeeklyVAL'),\n",
    "            vah=get_specific_value(data_path_dict['Price'], base_instrument, 'WeeklyVAH'),\n",
    "            vpoc=get_specific_value(data_path_dict['Price'], base_instrument, 'WeeklyVPOC'),\n",
    "            atr=get_specific_value(data_path_dict['Price'], base_instrument, 'WeeklyAtr')\n",
    "        ),\n",
    "        \n",
    "    },\n",
    "    'Monthly': {\n",
    "        'Market Env': get_specific_value(data_path_dict['Price'], base_instrument, 'MonthlyMarketEnv'),\n",
    "        'ATR': get_specific_value(data_path_dict['Price'], base_instrument, 'MonthlyAtr'),\n",
    "        'Close 2 VPOC':  (get_specific_value(data_path_dict['Price'], base_instrument, 'ClosePrice') - get_specific_value(data_path_dict['Price'], base_instrument, 'MonthlyVPOC'))/get_specific_value(data_path_dict['Price'], base_instrument, 'MonthlyAtr'),\n",
    "        'Channel Trend': get_specific_value(data_path_dict['Price'], base_instrument, 'MonthlyTrendState'),\n",
    "        'Value Area': get_value_area_style(\n",
    "            val=get_specific_value(data_path_dict['Price'], base_instrument, 'MonthlyVAL'),\n",
    "            vah=get_specific_value(data_path_dict['Price'], base_instrument, 'MonthlyVAH'),\n",
    "            vpoc=get_specific_value(data_path_dict['Price'], base_instrument, 'MonthlyVPOC'),\n",
    "            atr=get_specific_value(data_path_dict['Price'], base_instrument, 'MonthlyAtr')\n",
    "        ),\n",
    "    }\n",
    "}"
   ]
  },
  {
   "cell_type": "code",
   "execution_count": null,
   "metadata": {},
   "outputs": [],
   "source": [
    "df = pd.concat([\n",
    "        get_group_value(data_path_dict['RS'], sub_instruments, 'RS'),\n",
    "        get_group_value(data_path_dict['RS_Change'], sub_instruments, 'RS_Change'),\n",
    "        get_group_value(data_path_dict['Max20'], sub_instruments, 'Max20'),\n",
    "        get_group_value(data_path_dict['Min20'], sub_instruments, 'Min20'),\n",
    "        get_group_value(data_path_dict['DailySinceHigh'], sub_instruments, 'DailySinceHigh'),\n",
    "        get_group_value(data_path_dict['DailySinceLow'], sub_instruments, 'DailySinceLow'),\n",
    "    ]).T\n",
    "p1_grid_context_info = GridBuilder.create_grid_context_from_df(df, DEFAULT_GRIDS_CELL_FORMAT_CONFIG, 'p1_1')\n",
    "p2_grid_context_info = GridBuilder.create_grid_context_from_df(pd.DataFrame(dic), DEFAULT_GRIDS_CELL_FORMAT_CONFIG, 'p2_1')\n",
    "text_context = {**p1_grid_context_info, **context}"
   ]
  },
  {
   "cell_type": "code",
   "execution_count": null,
   "metadata": {},
   "outputs": [],
   "source": [
    "weekly_pics_list = [os.path.join(chart_folder, '{0}_{1}.png'.format(base_instrument, 'WEEKLY')), os.path.join(chart_folder, '{0}_{1}.png'.format(base_instrument, 'MONTHLY'))]\n",
    "weekly_pic = os.path.join(report_folder, root_instrument, '{0}_{1}.png'.format(base_instrument, 'COMBINED'))"
   ]
  },
  {
   "cell_type": "code",
   "execution_count": null,
   "metadata": {},
   "outputs": [],
   "source": [
    "combine_images(weekly_pics_list, weekly_pic)"
   ]
  },
  {
   "cell_type": "code",
   "execution_count": null,
   "metadata": {},
   "outputs": [],
   "source": [
    "chart_context = {\n",
    "    'weekly_monthly_chart': weekly_pic,\n",
    "    'weekly_monthly_chart_width_percent': 1.5,\n",
    "    'daily_chart': os.path.join(chart_folder, '{0}_{1}.png'.format(base_instrument, 'DAILY')),\n",
    "    'daily_chart_width_percent': 1.5,\n",
    "}"
   ]
  },
  {
   "cell_type": "code",
   "execution_count": null,
   "metadata": {},
   "outputs": [],
   "source": [
    "copyfile(WEEKLY_TEMPLATE_PATH, weekly_template_path)"
   ]
  },
  {
   "cell_type": "code",
   "execution_count": null,
   "metadata": {},
   "outputs": [],
   "source": [
    "save_doc({**text_context}, {**chart_context}, {}, weekly_template_path, result_path)"
   ]
  },
  {
   "cell_type": "code",
   "execution_count": 2,
   "metadata": {},
   "outputs": [],
   "source": [
    "def get_band_info(absolute_path, instrument, prefix):\n",
    "    file_path = os.path.join(absolute_path, instrument + '.csv')\n",
    "    s = pd.read_csv(file_path).iloc[-1, :]\n",
    "    return s[prefix+'OneOneLow'], s[prefix+'OneOneHigh'], s[prefix+'EnvelopeLow'], s[prefix+'EnvelopeHigh'], s[prefix+'Atr'], s[prefix+'Dot'], s[prefix+'LiveDot'], s[prefix+'LiveLiveDot'], s[prefix+'TrendState']\n",
    "          \n",
    "\n",
    "def get_zone(one_one_low, one_one_high, envelope_bottom, envelope_top, atr, dot, live_dot, live_live_dot, channel_trend):\n",
    "    result = {}\n",
    "    fuzzy_ratio = 0.05\n",
    "    if channel_trend in ['UpTrend', 'TransitionUp']:\n",
    "        if live_live_dot >= envelope_top:\n",
    "            result['InnerBuy'] = {\n",
    "                'low': live_dot,\n",
    "                'high': live_live_dot,\n",
    "            }\n",
    "            result['InnerSell'] = {\n",
    "                'low': one_one_high - fuzzy_ratio * atr,\n",
    "                'high': one_one_high + fuzzy_ratio * atr,\n",
    "            }\n",
    "        elif live_dot - dot >= 0.2 * atr:\n",
    "            result['InnerBuy'] = {\n",
    "                'low': dot,\n",
    "                'high': live_dot,\n",
    "            }\n",
    "            result['InnerSell'] = {\n",
    "                'low': one_one_high - fuzzy_ratio * atr,\n",
    "                'high': one_one_high + fuzzy_ratio * atr,\n",
    "            }\n",
    "        else:\n",
    "            result['InnerBuy'] = {\n",
    "                'low': min(one_one_low, envelope_bottom),\n",
    "                'high': max(one_one_low, envelope_bottom),\n",
    "            }\n",
    "            result['InnerSell'] = {\n",
    "                'low': min(one_one_high, envelope_top),\n",
    "                'high': max(one_one_high, envelope_top),\n",
    "            }\n",
    "    elif channel_trend in ['DownTrend', 'TransitionDown']:\n",
    "        if live_live_dot <= envelope_bottom:\n",
    "            result['InnerBuy'] = {\n",
    "                'low': one_one_low - fuzzy_ratio * atr,\n",
    "                'high': one_one_low + fuzzy_ratio * atr,\n",
    "            }\n",
    "            result['InnerSell'] = {\n",
    "                'low': live_live_dot,\n",
    "                'high': live_dot,\n",
    "            }\n",
    "        elif abs(live_dot - dot) >= 0.2 * atr:\n",
    "            result['InnerBuy'] = {\n",
    "                'low': one_one_low - fuzzy_ratio * atr,\n",
    "                'high': one_one_low + fuzzy_ratio * atr,\n",
    "            }\n",
    "            result['InnerSell'] = {\n",
    "                'low': live_dot,\n",
    "                'high': dot,\n",
    "            }\n",
    "        else:\n",
    "            result['InnerBuy'] = {\n",
    "                'low': min(one_one_low, envelope_bottom),\n",
    "                'high': max(one_one_low, envelope_bottom),\n",
    "            }\n",
    "            result['InnerSell'] = {\n",
    "                'low': min(one_one_high, envelope_top),\n",
    "                'high': max(one_one_high, envelope_top),\n",
    "            }\n",
    "    else:\n",
    "        result['InnerBuy'] = {\n",
    "            'low': min(one_one_low, envelope_bottom),\n",
    "            'high': max(one_one_low, envelope_bottom),\n",
    "        }\n",
    "        result['InnerSell'] = {\n",
    "            'low': min(one_one_high, envelope_top),\n",
    "            'high': max(one_one_high, envelope_top),\n",
    "        }\n",
    "    return result"
   ]
  },
  {
   "cell_type": "code",
   "execution_count": null,
   "metadata": {},
   "outputs": [],
   "source": []
  }
 ],
 "metadata": {
  "kernelspec": {
   "display_name": "Python 3",
   "language": "python",
   "name": "python3"
  },
  "language_info": {
   "codemirror_mode": {
    "name": "ipython",
    "version": 3
   },
   "file_extension": ".py",
   "mimetype": "text/x-python",
   "name": "python",
   "nbconvert_exporter": "python",
   "pygments_lexer": "ipython3",
   "version": "3.7.4"
  }
 },
 "nbformat": 4,
 "nbformat_minor": 4
}
