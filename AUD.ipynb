{
 "cells": [
  {
   "cell_type": "code",
   "execution_count": 20,
   "metadata": {},
   "outputs": [
    {
     "data": {
      "text/plain": [
       "'0.24.2'"
      ]
     },
     "execution_count": 20,
     "metadata": {},
     "output_type": "execute_result"
    }
   ],
   "source": [
    "import os\n",
    "from DailyReport.template import WEEKLY_TEMPLATE_PATH, DAILY_TEMPLATE_PATH\n",
    "import pandas as pd;pd.__version__"
   ]
  },
  {
   "cell_type": "code",
   "execution_count": 10,
   "metadata": {},
   "outputs": [],
   "source": [
    "root_instrument = 'AUD'\n",
    "report_folder = r'report_output'\n",
    "chart_folder = 'chart_output'\n",
    "data_folder = 'data_output'"
   ]
  },
  {
   "cell_type": "code",
   "execution_count": 37,
   "metadata": {},
   "outputs": [],
   "source": [
    "result_path = os.path.join(report_folder, root_instrument, '')\n",
    "data_path_dict = {\n",
    "    'DailySinceHigh': os.path.join(data_folder, 'DailySinceHigh', root_instrument),\n",
    "    'DailySinceLow': os.path.join(data_folder, 'DailySinceLow', root_instrument),\n",
    "    'ER_ID2': os.path.join(data_folder, 'ER_ID2'),\n",
    "    'ER_ID1': os.path.join(data_folder, 'ER_ID1'),\n",
    "    'Max20': os.path.join(data_folder, 'Max20', root_instrument),\n",
    "    'Min20': os.path.join(data_folder, 'Min20', root_instrument),\n",
    "    'Price': os.path.join(data_folder, 'Price'),\n",
    "    'RS': os.path.join(data_folder, 'RS', root_instrument),\n",
    "    'RS_Change': os.path.join(data_folder, 'RS_Change', root_instrument),\n",
    "    'TR_ID3': os.path.join(data_folder, 'TR_ID3'),\n",
    "    'TR_ID2': os.path.join(data_folder, 'TR_ID2'),\n",
    "    'TR_ID1': os.path.join(data_folder, 'TR_ID1'),\n",
    "}"
   ]
  },
  {
   "cell_type": "code",
   "execution_count": 32,
   "metadata": {},
   "outputs": [],
   "source": [
    "date = '2019-09-09'\n",
    "base_instrument = '6A ##-##'\n",
    "sub_instruments = ['AUDCAD', 'AUDCHF', 'AUDJPY', 'AUDNZD', 'AUDUSD', 'EURAUD', 'GBPAUD']"
   ]
  },
  {
   "cell_type": "code",
   "execution_count": 8,
   "metadata": {},
   "outputs": [],
   "source": [
    "context = {\n",
    "    'instrument_group_name': root_instrument,\n",
    "    'date': date\n",
    "}"
   ]
  },
  {
   "cell_type": "code",
   "execution_count": 30,
   "metadata": {},
   "outputs": [],
   "source": [
    "def get_group_value(group_path, instrument_list, indicator_name):\n",
    "    result = {}\n",
    "    for i in instrument_list:\n",
    "        _path = os.path.join(group_path, i + '.csv')\n",
    "        _df = pd.read_csv(_path, header=None)\n",
    "        result[i] = _df.iloc[-1, -1]\n",
    "    return pd.DataFrame(result, [indicator_name])"
   ]
  },
  {
   "cell_type": "code",
   "execution_count": 40,
   "metadata": {},
   "outputs": [
    {
     "data": {
      "text/html": [
       "<div>\n",
       "<style scoped>\n",
       "    .dataframe tbody tr th:only-of-type {\n",
       "        vertical-align: middle;\n",
       "    }\n",
       "\n",
       "    .dataframe tbody tr th {\n",
       "        vertical-align: top;\n",
       "    }\n",
       "\n",
       "    .dataframe thead th {\n",
       "        text-align: right;\n",
       "    }\n",
       "</style>\n",
       "<table border=\"1\" class=\"dataframe\">\n",
       "  <thead>\n",
       "    <tr style=\"text-align: right;\">\n",
       "      <th></th>\n",
       "      <th>RS</th>\n",
       "      <th>RS_Change</th>\n",
       "      <th>Max20</th>\n",
       "      <th>Min20</th>\n",
       "      <th>DailySinceHigh</th>\n",
       "      <th>DailySinceLow</th>\n",
       "    </tr>\n",
       "  </thead>\n",
       "  <tbody>\n",
       "    <tr>\n",
       "      <th>AUDCAD</th>\n",
       "      <td>27</td>\n",
       "      <td>18</td>\n",
       "      <td>27</td>\n",
       "      <td>8</td>\n",
       "      <td>179</td>\n",
       "      <td>23</td>\n",
       "    </tr>\n",
       "    <tr>\n",
       "      <th>AUDCHF</th>\n",
       "      <td>50</td>\n",
       "      <td>25</td>\n",
       "      <td>50</td>\n",
       "      <td>9</td>\n",
       "      <td>102</td>\n",
       "      <td>10</td>\n",
       "    </tr>\n",
       "    <tr>\n",
       "      <th>AUDJPY</th>\n",
       "      <td>41</td>\n",
       "      <td>26</td>\n",
       "      <td>41</td>\n",
       "      <td>6</td>\n",
       "      <td>103</td>\n",
       "      <td>10</td>\n",
       "    </tr>\n",
       "    <tr>\n",
       "      <th>AUDNZD</th>\n",
       "      <td>85</td>\n",
       "      <td>5</td>\n",
       "      <td>87</td>\n",
       "      <td>51</td>\n",
       "      <td>103</td>\n",
       "      <td>177</td>\n",
       "    </tr>\n",
       "    <tr>\n",
       "      <th>AUDUSD</th>\n",
       "      <td>36</td>\n",
       "      <td>29</td>\n",
       "      <td>36</td>\n",
       "      <td>8</td>\n",
       "      <td>157</td>\n",
       "      <td>23</td>\n",
       "    </tr>\n",
       "    <tr>\n",
       "      <th>EURAUD</th>\n",
       "      <td>65</td>\n",
       "      <td>22</td>\n",
       "      <td>66</td>\n",
       "      <td>25</td>\n",
       "      <td>23</td>\n",
       "      <td>103</td>\n",
       "    </tr>\n",
       "    <tr>\n",
       "      <th>GBPAUD</th>\n",
       "      <td>58</td>\n",
       "      <td>-1</td>\n",
       "      <td>78</td>\n",
       "      <td>37</td>\n",
       "      <td>90</td>\n",
       "      <td>29</td>\n",
       "    </tr>\n",
       "  </tbody>\n",
       "</table>\n",
       "</div>"
      ],
      "text/plain": [
       "        RS  RS_Change  Max20  Min20  DailySinceHigh  DailySinceLow\n",
       "AUDCAD  27         18     27      8             179             23\n",
       "AUDCHF  50         25     50      9             102             10\n",
       "AUDJPY  41         26     41      6             103             10\n",
       "AUDNZD  85          5     87     51             103            177\n",
       "AUDUSD  36         29     36      8             157             23\n",
       "EURAUD  65         22     66     25              23            103\n",
       "GBPAUD  58         -1     78     37              90             29"
      ]
     },
     "execution_count": 40,
     "metadata": {},
     "output_type": "execute_result"
    }
   ],
   "source": [
    "pd.concat([\n",
    "    get_group_value(data_path_dict['RS'], sub_instruments, 'RS'),\n",
    "    get_group_value(data_path_dict['RS_Change'], sub_instruments, 'RS_Change'),\n",
    "    get_group_value(data_path_dict['Max20'], sub_instruments, 'Max20'),\n",
    "    get_group_value(data_path_dict['Min20'], sub_instruments, 'Min20'),\n",
    "    get_group_value(data_path_dict['DailySinceHigh'], sub_instruments, 'DailySinceHigh'),\n",
    "    get_group_value(data_path_dict['DailySinceLow'], sub_instruments, 'DailySinceLow'),\n",
    "]).T"
   ]
  },
  {
   "cell_type": "code",
   "execution_count": 13,
   "metadata": {},
   "outputs": [],
   "source": [
    "i = 'AUDCAD'"
   ]
  },
  {
   "cell_type": "code",
   "execution_count": 17,
   "metadata": {},
   "outputs": [
    {
     "data": {
      "text/plain": [
       "'data_output\\\\RS\\\\AUD\\\\AUDCAD.csv'"
      ]
     },
     "execution_count": 17,
     "metadata": {},
     "output_type": "execute_result"
    }
   ],
   "source": [
    "_path = os.path.join(group_path, i + '.csv');_path"
   ]
  },
  {
   "cell_type": "code",
   "execution_count": 23,
   "metadata": {},
   "outputs": [],
   "source": [
    "df = pd.read_csv(_path, header=None)"
   ]
  },
  {
   "cell_type": "code",
   "execution_count": 24,
   "metadata": {},
   "outputs": [],
   "source": [
    "result = {}\n"
   ]
  },
  {
   "cell_type": "code",
   "execution_count": 25,
   "metadata": {},
   "outputs": [],
   "source": [
    "result ={\n",
    "    i: df.iloc[-1,-1]\n",
    "}"
   ]
  },
  {
   "cell_type": "code",
   "execution_count": 26,
   "metadata": {},
   "outputs": [
    {
     "data": {
      "text/plain": [
       "{'AUDCAD': 27}"
      ]
     },
     "execution_count": 26,
     "metadata": {},
     "output_type": "execute_result"
    }
   ],
   "source": [
    "result"
   ]
  },
  {
   "cell_type": "code",
   "execution_count": 29,
   "metadata": {},
   "outputs": [
    {
     "data": {
      "text/html": [
       "<div>\n",
       "<style scoped>\n",
       "    .dataframe tbody tr th:only-of-type {\n",
       "        vertical-align: middle;\n",
       "    }\n",
       "\n",
       "    .dataframe tbody tr th {\n",
       "        vertical-align: top;\n",
       "    }\n",
       "\n",
       "    .dataframe thead th {\n",
       "        text-align: right;\n",
       "    }\n",
       "</style>\n",
       "<table border=\"1\" class=\"dataframe\">\n",
       "  <thead>\n",
       "    <tr style=\"text-align: right;\">\n",
       "      <th></th>\n",
       "      <th>AUDCAD</th>\n",
       "    </tr>\n",
       "  </thead>\n",
       "  <tbody>\n",
       "    <tr>\n",
       "      <th>RS</th>\n",
       "      <td>27</td>\n",
       "    </tr>\n",
       "  </tbody>\n",
       "</table>\n",
       "</div>"
      ],
      "text/plain": [
       "    AUDCAD\n",
       "RS      27"
      ]
     },
     "execution_count": 29,
     "metadata": {},
     "output_type": "execute_result"
    }
   ],
   "source": [
    "pd.DataFrame(result, ['RS'])"
   ]
  },
  {
   "cell_type": "code",
   "execution_count": null,
   "metadata": {},
   "outputs": [],
   "source": []
  }
 ],
 "metadata": {
  "kernelspec": {
   "display_name": "Python 3",
   "language": "python",
   "name": "python3"
  },
  "language_info": {
   "codemirror_mode": {
    "name": "ipython",
    "version": 3
   },
   "file_extension": ".py",
   "mimetype": "text/x-python",
   "name": "python",
   "nbconvert_exporter": "python",
   "pygments_lexer": "ipython3",
   "version": "3.7.4"
  }
 },
 "nbformat": 4,
 "nbformat_minor": 4
}
